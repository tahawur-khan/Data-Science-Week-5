{
 "cells": [
  {
   "cell_type": "markdown",
   "id": "9dc283ac",
   "metadata": {},
   "source": [
    "# WEEK - 5  DATA SCIENCE\n",
    "# Image Collection and Augmentation"
   ]
  },
  {
   "cell_type": "markdown",
   "id": "ebb70df9",
   "metadata": {},
   "source": [
    "# 1. Importing Important Libraries"
   ]
  },
  {
   "cell_type": "code",
   "execution_count": 7,
   "id": "aefd77e3",
   "metadata": {},
   "outputs": [],
   "source": [
    "import os\n",
    "import numpy as np\n",
    "from tensorflow.keras.preprocessing.image import ImageDataGenerator\n",
    "from PIL import Image\n",
    "import shutil"
   ]
  },
  {
   "cell_type": "markdown",
   "id": "00887cbe",
   "metadata": {},
   "source": [
    "# 2. Creating Folders for Saving the Images"
   ]
  },
  {
   "cell_type": "code",
   "execution_count": 8,
   "id": "a8743f8e",
   "metadata": {},
   "outputs": [],
   "source": [
    "# Paths to the original and augmented images folders\n",
    "\n",
    "original_folder = 'C:/Users/Tahawur/Desktop/Developers Hub Internship/Week-5/original_images'\n",
    "augmented_folder = 'augmented_images_folder/' \n",
    "\n",
    "# Create augmented folder if it doesn't exist\n",
    "if not os.path.exists(augmented_folder):\n",
    "    os.makedirs(augmented_folder)"
   ]
  },
  {
   "cell_type": "markdown",
   "id": "6047ab84",
   "metadata": {},
   "source": [
    "# 3. Image Preprocessing"
   ]
  },
  {
   "cell_type": "code",
   "execution_count": 9,
   "id": "b8b5f801",
   "metadata": {},
   "outputs": [],
   "source": [
    "# Preprocess function to resize images\n",
    "def preprocess_image(image_path, target_size=(224, 224)):\n",
    "    img = Image.open(image_path)  # Open the image\n",
    "    img = img.resize(target_size)  # Resize the image to 224x224 or another size\n",
    "    img = np.array(img)  # Convert the image to a numpy array\n",
    "    return img"
   ]
  },
  {
   "cell_type": "markdown",
   "id": "bac89865",
   "metadata": {},
   "source": [
    "# 4. Augmented Images Function"
   ]
  },
  {
   "cell_type": "code",
   "execution_count": 10,
   "id": "62855f78",
   "metadata": {},
   "outputs": [],
   "source": [
    "# Function to augment images\n",
    "def augment_images(image_path, num_augmented_images=5, target_size=(224, 224)):\n",
    "    # Initialize ImageDataGenerator with augmentations\n",
    "    datagen = ImageDataGenerator(\n",
    "        rotation_range=45,        # Random rotation up to 45 degrees\n",
    "        horizontal_flip=True,     # Flip images horizontally\n",
    "        vertical_flip=True,       # Flip images vertically\n",
    "        zoom_range=0.2,           # Zoom images by 20%\n",
    "        width_shift_range=0.2,    # Random horizontal shifts\n",
    "        height_shift_range=0.2,   # Random vertical shifts\n",
    "        brightness_range=[0.5, 1.5],  # Adjust brightness\n",
    "        fill_mode='nearest'       # Fill missing pixels after transformation\n",
    "    )\n",
    "    \n",
    "    img = preprocess_image(image_path, target_size)  # Preprocess image\n",
    "    img = img.reshape((1, target_size[0], target_size[1], 3))  # Reshape for the ImageDataGenerator\n",
    "\n",
    "    base_name = os.path.basename(image_path).split('.')[0]  # Get base name for saving\n",
    "    \n",
    "    # Generate augmented images and save them\n",
    "    for i, batch in enumerate(datagen.flow(img, batch_size=1, save_to_dir=augmented_folder,\n",
    "                                           save_prefix=base_name, save_format='jpeg')):\n",
    "        augmented_img = batch[0]  # Get the augmented image\n",
    "        \n",
    "        # Convert the image from [0, 1] range back to [0, 255]\n",
    "        augmented_img = (augmented_img * 255).astype(np.uint8)\n",
    "\n",
    "        # Convert numpy array to PIL image\n",
    "        augmented_image = Image.fromarray(augmented_img)\n",
    "\n",
    "        # Save the augmented image to the folder\n",
    "        augmented_image.save(os.path.join(augmented_folder, f'{base_name}_aug_{i+1}.jpeg'))\n",
    "\n",
    "        if i >= num_augmented_images - 1:  # Stop after generating the specified number of images\n",
    "            break\n",
    "\n",
    "    print(f\"Augmented images are saved in '{augmented_folder}'.\")"
   ]
  },
  {
   "cell_type": "markdown",
   "id": "7e7db55b",
   "metadata": {},
   "source": [
    "# 5.  Organize Augmented Images in Original Folder"
   ]
  },
  {
   "cell_type": "code",
   "execution_count": 11,
   "id": "605ea1b1",
   "metadata": {},
   "outputs": [],
   "source": [
    "# Function to organize and augment images in the original folder\n",
    "def organize_images(original_folder):\n",
    "    for image_name in os.listdir(original_folder):\n",
    "        original_image_path = os.path.join(original_folder, image_name)\n",
    "        if os.path.isfile(original_image_path):  # Check if it's a file\n",
    "            augment_images(original_image_path)"
   ]
  },
  {
   "cell_type": "markdown",
   "id": "4ffe6dd1",
   "metadata": {},
   "source": [
    "# 6. Main Function to Run the Code"
   ]
  },
  {
   "cell_type": "code",
   "execution_count": 12,
   "id": "2be0f346",
   "metadata": {},
   "outputs": [
    {
     "name": "stdout",
     "output_type": "stream",
     "text": [
      "Augmented images are saved in 'augmented_images_folder/'.\n",
      "Augmented images are saved in 'augmented_images_folder/'.\n",
      "Augmented images are saved in 'augmented_images_folder/'.\n",
      "Augmented images are saved in 'augmented_images_folder/'.\n",
      "Augmented images are saved in 'augmented_images_folder/'.\n",
      "Augmented images are saved in 'augmented_images_folder/'.\n",
      "Augmented images are saved in 'augmented_images_folder/'.\n",
      "Augmented images are saved in 'augmented_images_folder/'.\n",
      "Augmented images are saved in 'augmented_images_folder/'.\n",
      "Augmented images are saved in 'augmented_images_folder/'.\n",
      "Augmented images are saved in 'augmented_images_folder/'.\n",
      "Augmented images are saved in 'augmented_images_folder/'.\n",
      "Augmented images are saved in 'augmented_images_folder/'.\n",
      "Augmented images are saved in 'augmented_images_folder/'.\n",
      "Augmented images are saved in 'augmented_images_folder/'.\n",
      "Augmented images are saved in 'augmented_images_folder/'.\n",
      "Augmented images are saved in 'augmented_images_folder/'.\n",
      "Augmented images are saved in 'augmented_images_folder/'.\n",
      "Augmented images are saved in 'augmented_images_folder/'.\n",
      "Augmented images are saved in 'augmented_images_folder/'.\n",
      "Augmented images are saved in 'augmented_images_folder/'.\n",
      "Augmented images are saved in 'augmented_images_folder/'.\n",
      "Augmented images are saved in 'augmented_images_folder/'.\n",
      "Augmented images are saved in 'augmented_images_folder/'.\n",
      "Augmented images are saved in 'augmented_images_folder/'.\n",
      "Augmented images are saved in 'augmented_images_folder/'.\n",
      "Augmented images are saved in 'augmented_images_folder/'.\n",
      "Augmented images are saved in 'augmented_images_folder/'.\n",
      "Augmented images are saved in 'augmented_images_folder/'.\n",
      "Augmented images are saved in 'augmented_images_folder/'.\n",
      "Augmented images are saved in 'augmented_images_folder/'.\n",
      "Augmented images are saved in 'augmented_images_folder/'.\n",
      "Augmented images are saved in 'augmented_images_folder/'.\n",
      "Augmented images are saved in 'augmented_images_folder/'.\n",
      "Augmented images are saved in 'augmented_images_folder/'.\n",
      "Augmented images are saved in 'augmented_images_folder/'.\n",
      "Augmented images are saved in 'augmented_images_folder/'.\n",
      "Augmented images are saved in 'augmented_images_folder/'.\n",
      "Augmented images are saved in 'augmented_images_folder/'.\n",
      "Augmented images are saved in 'augmented_images_folder/'.\n",
      "Augmented images are saved in 'augmented_images_folder/'.\n",
      "Augmented images are saved in 'augmented_images_folder/'.\n",
      "Augmented images are saved in 'augmented_images_folder/'.\n",
      "Augmented images are saved in 'augmented_images_folder/'.\n",
      "Augmented images are saved in 'augmented_images_folder/'.\n",
      "Augmented images are saved in 'augmented_images_folder/'.\n",
      "Augmented images are saved in 'augmented_images_folder/'.\n",
      "Augmented images are saved in 'augmented_images_folder/'.\n",
      "Augmented images are saved in 'augmented_images_folder/'.\n",
      "Augmented images are saved in 'augmented_images_folder/'.\n",
      "Original and augmented images are saved in 'augmented_images_folder/'.\n"
     ]
    }
   ],
   "source": [
    "# Main function to run the code\n",
    "def main():\n",
    "    organize_images(original_folder)\n",
    "    print(f\"Original and augmented images are saved in '{augmented_folder}'.\")\n",
    "\n",
    "if __name__ == \"__main__\":\n",
    "    main()"
   ]
  },
  {
   "cell_type": "markdown",
   "id": "a030ecb6",
   "metadata": {},
   "source": [
    "# 7. Summary\n",
    "\n",
    "\n",
    "We've performed image augmentation on a set of images located in a specified folder **original_images** and save the augmented images in a separate folder **augmented_images_folder**. It utilizes the **ImageDataGenerator** from Keras to apply various transformations such as rotation, flipping, zooming, shifting, and brightness adjustments on each image.\n",
    "\n",
    "The **images** are **preprocessed** by resizing them to a fixed size of 224x224 pixels and reshaped to be compatible with the augmentation process. For each image in the original folder, a specified number of augmented images (default is 5) are generated and saved as JPEG files in the output folder.\n",
    "\n",
    "The script ensures that the output folder is created if it doesn't already exist, and it organizes the augmented images by naming them with a base name derived from the original image. The process is automated, allowing for easy handling of multiple images."
   ]
  },
  {
   "cell_type": "code",
   "execution_count": null,
   "id": "a7fef722",
   "metadata": {},
   "outputs": [],
   "source": []
  }
 ],
 "metadata": {
  "kernelspec": {
   "display_name": "Python 3 (ipykernel)",
   "language": "python",
   "name": "python3"
  },
  "language_info": {
   "codemirror_mode": {
    "name": "ipython",
    "version": 3
   },
   "file_extension": ".py",
   "mimetype": "text/x-python",
   "name": "python",
   "nbconvert_exporter": "python",
   "pygments_lexer": "ipython3",
   "version": "3.11.7"
  }
 },
 "nbformat": 4,
 "nbformat_minor": 5
}
